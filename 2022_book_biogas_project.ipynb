{
 "cells": [
  {
   "cell_type": "markdown",
   "metadata": {
    "id": "BSG8OnL7D7Ss"
   },
   "source": [
    "# Biogas Project\n",
    "\n",
    "Dieses Praktium orientiert sich am Kapitel 6 (RNASeq und Biogas – Identifikation Biogas-produzierender Bakterien) meines Buches *Bioinformatik für Anwender*. Ich verzichte daher auf eine Beschreibung der Befehle."
   ]
  },
  {
   "cell_type": "markdown",
   "metadata": {
    "id": "Mv7AAZv7Sh8A"
   },
   "source": [
    "## Preparations"
   ]
  },
  {
   "cell_type": "code",
   "execution_count": null,
   "metadata": {
    "colab": {
     "base_uri": "https://localhost:8080/",
     "height": 34
    },
    "id": "w769gwq6Dzq8",
    "outputId": "3f2a4030-56ae-4b35-81c3-64efd10badb3"
   },
   "outputs": [],
   "source": [
    "%%bash\n",
    "cd ~\n",
    "mkdir RNASeq"
   ]
  },
  {
   "cell_type": "code",
   "execution_count": null,
   "metadata": {
    "colab": {
     "base_uri": "https://localhost:8080/",
     "height": 34
    },
    "id": "CQ0cjtfgdRFr",
    "outputId": "c7a6cc1e-0300-4a97-9cf5-e69fe776f515"
   },
   "outputs": [],
   "source": [
    "%cd RNASeq/"
   ]
  },
  {
   "cell_type": "code",
   "execution_count": null,
   "metadata": {
    "colab": {
     "base_uri": "https://localhost:8080/",
     "height": 34
    },
    "id": "OVkjWKCvEPaY",
    "outputId": "62cddaec-42c7-41cc-add3-1502f1d90e2d"
   },
   "outputs": [],
   "source": [
    "!pwd"
   ]
  },
  {
   "cell_type": "code",
   "execution_count": null,
   "metadata": {
    "colab": {
     "base_uri": "https://localhost:8080/",
     "height": 34
    },
    "id": "aBYoUv-Nc20f",
    "outputId": "6c73aaac-9288-4de1-8638-a84892471cd7"
   },
   "outputs": [],
   "source": [
    "%cd ~"
   ]
  },
  {
   "cell_type": "code",
   "execution_count": null,
   "metadata": {
    "colab": {
     "base_uri": "https://localhost:8080/"
    },
    "id": "qeQ02dZNERP8",
    "outputId": "18c278b5-ac44-4b23-8214-d1f91dc1513f"
   },
   "outputs": [],
   "source": [
    "!ls"
   ]
  },
  {
   "cell_type": "code",
   "execution_count": null,
   "metadata": {
    "colab": {
     "base_uri": "https://localhost:8080/",
     "height": 51
    },
    "id": "sGZMBjUQETHp",
    "outputId": "86699329-26da-41aa-c192-1da860c4e1d8"
   },
   "outputs": [],
   "source": [
    "%cd RNASeq/"
   ]
  },
  {
   "cell_type": "markdown",
   "metadata": {
    "id": "tCk06CGGScxW"
   },
   "source": [
    "### Loading Data"
   ]
  },
  {
   "cell_type": "code",
   "execution_count": null,
   "metadata": {
    "id": "x1xO7u3HE0O5"
   },
   "outputs": [],
   "source": [
    "!wget -q 'datenmassen.hs-mittweida.de/biogas.fastq.gz'"
   ]
  },
  {
   "cell_type": "code",
   "execution_count": null,
   "metadata": {
    "id": "byPu4LVJFWTv"
   },
   "outputs": [],
   "source": [
    "!gunzip biogas.fastq.gz"
   ]
  },
  {
   "cell_type": "code",
   "execution_count": null,
   "metadata": {
    "colab": {
     "base_uri": "https://localhost:8080/",
     "height": 85
    },
    "id": "PO3QmagYFjYS",
    "outputId": "29477c78-4cb1-4da7-c94e-5df6d0f49a95"
   },
   "outputs": [],
   "source": [
    "!head -4 biogas.fastq"
   ]
  },
  {
   "cell_type": "code",
   "execution_count": null,
   "metadata": {
    "colab": {
     "base_uri": "https://localhost:8080/",
     "height": 54
    },
    "id": "nj_9yASPFnEY",
    "outputId": "2faadce2-e5cc-475b-a4a4-53d294994ff9"
   },
   "outputs": [],
   "source": [
    "%%bash\n",
    "wget -q 'datenmassen.hs-mittweida.de/16s-archaea.fasta.gz'\n",
    "gunzip 16s-archaea.fasta.gz\n",
    "head -1 16s-archaea.fasta"
   ]
  },
  {
   "cell_type": "code",
   "execution_count": null,
   "metadata": {
    "id": "1sg5meE1GWXV"
   },
   "outputs": [],
   "source": [
    "! awk '{ORS=\"\";if($0~/>/){print \"\\n\"$O\"\\t\"}else{print $0}}' 16s-archaea.fasta | sed '1d' | egrep -vi '(uncultured|enrichment|unidentified|candidatus|sp\\.)' | sed 's/;.*;/ /' | sed 's/\\t/\\n/' > 16s-archaea-kurz.fasta"
   ]
  },
  {
   "cell_type": "markdown",
   "metadata": {
    "id": "D8_B9ANwSUgb"
   },
   "source": [
    "### Installation of Trimmomatic"
   ]
  },
  {
   "cell_type": "code",
   "execution_count": null,
   "metadata": {
    "colab": {
     "base_uri": "https://localhost:8080/",
     "height": 408
    },
    "id": "wJMQc8DHGnmY",
    "outputId": "ce6831a8-cc6b-4b55-fa7b-96ca6523738c"
   },
   "outputs": [],
   "source": [
    "!pkexec apt-get -y install trimmomatic #prompt for pwd and ommit Y/N"
   ]
  },
  {
   "cell_type": "code",
   "execution_count": null,
   "metadata": {
    "colab": {
     "base_uri": "https://localhost:8080/",
     "height": 139
    },
    "id": "2X0lTlCDG6ib",
    "outputId": "ea28cebf-4db1-4785-ee3b-320257274955"
   },
   "outputs": [],
   "source": [
    "!java -jar /usr/share/java/trimmomatic.jar"
   ]
  },
  {
   "cell_type": "code",
   "execution_count": null,
   "metadata": {
    "colab": {
     "base_uri": "https://localhost:8080/",
     "height": 34
    },
    "id": "p4B4sTYhHHy1",
    "outputId": "9c28932d-4a9a-4fd9-c0ff-cb4ed5ad0264"
   },
   "outputs": [],
   "source": [
    "!ls"
   ]
  },
  {
   "cell_type": "markdown",
   "metadata": {
    "id": "IVs0QWw-RyJh"
   },
   "source": [
    "### Installation of FastQC"
   ]
  },
  {
   "cell_type": "code",
   "execution_count": null,
   "metadata": {
    "colab": {
     "base_uri": "https://localhost:8080/",
     "height": 102
    },
    "id": "Wj_cWW93HoId",
    "outputId": "707e573f-570f-44eb-de6c-fd6bfb9573f2"
   },
   "outputs": [],
   "source": [
    "!pkexec apt-get -y install fastqc"
   ]
  },
  {
   "cell_type": "code",
   "execution_count": null,
   "metadata": {
    "colab": {
     "base_uri": "https://localhost:8080/",
     "height": 34
    },
    "id": "AAWPYlflKd74",
    "outputId": "4796d19a-25dd-4ee4-f944-4f636ba2fccf"
   },
   "outputs": [],
   "source": [
    "!fastqc --version"
   ]
  },
  {
   "cell_type": "markdown",
   "metadata": {
    "id": "xN2L0woIR8AS"
   },
   "source": [
    "### Installation of FastX-Toolkit"
   ]
  },
  {
   "cell_type": "code",
   "execution_count": null,
   "metadata": {},
   "outputs": [],
   "source": [
    "!wget 'http://ftp.de.debian.org/debian/pool/main/f/fastx-toolkit/fastx-toolkit_0.0.14-6_amd64.deb'"
   ]
  },
  {
   "cell_type": "code",
   "execution_count": null,
   "metadata": {
    "scrolled": true
   },
   "outputs": [],
   "source": [
    "!ls"
   ]
  },
  {
   "cell_type": "code",
   "execution_count": null,
   "metadata": {
    "id": "lERzDfEjM67Z"
   },
   "outputs": [],
   "source": [
    "%mkdir fastx-toolkit"
   ]
  },
  {
   "cell_type": "code",
   "execution_count": null,
   "metadata": {},
   "outputs": [],
   "source": [
    "%cd fastx-toolkit"
   ]
  },
  {
   "cell_type": "code",
   "execution_count": null,
   "metadata": {},
   "outputs": [],
   "source": [
    "!pwd"
   ]
  },
  {
   "cell_type": "code",
   "execution_count": null,
   "metadata": {},
   "outputs": [],
   "source": [
    "!wget http://hannonlab.cshl.edu/fastx_toolkit/fastx_toolkit_0.0.13_binaries_Linux_2.6_amd64.tar.bz2"
   ]
  },
  {
   "cell_type": "code",
   "execution_count": null,
   "metadata": {},
   "outputs": [],
   "source": [
    "!tar -xf fastx_toolkit_0.0.13_binaries_Linux_2.6_amd64.tar.bz2"
   ]
  },
  {
   "cell_type": "code",
   "execution_count": null,
   "metadata": {},
   "outputs": [],
   "source": [
    "# !pkexec sudo ./bin/* /usr/local/bin"
   ]
  },
  {
   "cell_type": "markdown",
   "metadata": {
    "id": "LEDjUUOASrvN"
   },
   "source": [
    "### Installation of BLAST+"
   ]
  },
  {
   "cell_type": "code",
   "execution_count": null,
   "metadata": {
    "id": "OOoYnXeNRKQW"
   },
   "outputs": [],
   "source": [
    "!pkexec apt-get -y install ncbi-blast+"
   ]
  },
  {
   "cell_type": "code",
   "execution_count": null,
   "metadata": {
    "colab": {
     "base_uri": "https://localhost:8080/",
     "height": 51
    },
    "id": "f7SXbx7gVH9j",
    "outputId": "5956d20a-7cd2-4527-d4af-c83a06ff0d33"
   },
   "outputs": [],
   "source": [
    "!blastn -version"
   ]
  },
  {
   "cell_type": "markdown",
   "metadata": {
    "id": "IPVtr4CDQVPk"
   },
   "source": [
    "This command does not work: `!trimm() { java -jar /usr/share/java/trimmomatic.jar $@; }`\n",
    "Instead, you always have to provide the full path!\n",
    "\n"
   ]
  },
  {
   "cell_type": "markdown",
   "metadata": {
    "id": "jE4_fsaGTQBo"
   },
   "source": [
    "## Preparating Data"
   ]
  },
  {
   "cell_type": "markdown",
   "metadata": {
    "id": "WDsbSYjHTjfu"
   },
   "source": [
    "### Select annotated archae only:"
   ]
  },
  {
   "cell_type": "code",
   "execution_count": null,
   "metadata": {},
   "outputs": [],
   "source": [
    "%cd .."
   ]
  },
  {
   "cell_type": "code",
   "execution_count": null,
   "metadata": {
    "colab": {
     "base_uri": "https://localhost:8080/"
    },
    "id": "HTM2eCPeGDyb",
    "outputId": "ec8dd3ac-9db6-4279-ea83-118dbf08fe9f"
   },
   "outputs": [],
   "source": [
    "! awk '{ORS=\"\";if($0~/>/){print \"\\n\"$O\"\\t\"}else{print $0}}' 16s-archaea.fasta | sed '1d' | egrep -vi '(uncultured|enrichment|unidentified|candidatus|sp\\.)' | sed 's/;.*;/ /' | sed 's/\\t/\\n/' | head -4 # ignore error"
   ]
  },
  {
   "cell_type": "markdown",
   "metadata": {
    "id": "PSf8F-5HTqka"
   },
   "source": [
    "### Quality Control Sequences I"
   ]
  },
  {
   "cell_type": "code",
   "execution_count": null,
   "metadata": {},
   "outputs": [],
   "source": [
    "!pwd"
   ]
  },
  {
   "cell_type": "code",
   "execution_count": null,
   "metadata": {
    "id": "pjp1dII9Kn6f"
   },
   "outputs": [],
   "source": [
    "!./fastx-toolkit/bin/fastx_quality_stats -Q33 -i biogas.fastq -o biogas-qc.tab"
   ]
  },
  {
   "cell_type": "code",
   "execution_count": null,
   "metadata": {
    "colab": {
     "base_uri": "https://localhost:8080/",
     "height": 102
    },
    "id": "49ii_1vqLIig",
    "outputId": "c1d28f67-fd09-4311-cfa4-3868851b30f6"
   },
   "outputs": [],
   "source": [
    "!ls -lh"
   ]
  },
  {
   "cell_type": "code",
   "execution_count": null,
   "metadata": {
    "colab": {
     "base_uri": "https://localhost:8080/",
     "height": 187
    },
    "id": "wqgBFLmHNSb8",
    "outputId": "5cb84076-17c0-467a-cef1-92ab62eed37b"
   },
   "outputs": [],
   "source": [
    "!head biogas-qc.tab"
   ]
  },
  {
   "cell_type": "code",
   "execution_count": null,
   "metadata": {
    "colab": {
     "base_uri": "https://localhost:8080/",
     "height": 374
    },
    "id": "NMJXoLXnN413",
    "outputId": "89a43b68-5576-47db-c096-b4a6fb61274a"
   },
   "outputs": [],
   "source": [
    "!awk '$17>0{print $1,$2,$6,$17}' biogas-qc.tab | tee >(wc -l)"
   ]
  },
  {
   "cell_type": "markdown",
   "metadata": {
    "id": "YFNfJPpJWmY0"
   },
   "source": [
    "### Trim Sequences"
   ]
  },
  {
   "cell_type": "code",
   "execution_count": null,
   "metadata": {
    "colab": {
     "base_uri": "https://localhost:8080/",
     "height": 102
    },
    "id": "OfcM8qVXOMXB",
    "outputId": "b574d335-50c3-45b5-b864-4cbf92a34e4c"
   },
   "outputs": [],
   "source": [
    "!java -jar /usr/share/java/trimmomatic.jar SE -phred33 -trimlog biogas-trim.log biogas.fastq biogas-trim.fastq SLIDINGWINDOW:4:30 MINLEN:80"
   ]
  },
  {
   "cell_type": "markdown",
   "metadata": {
    "id": "xxxnm2eeWrq-"
   },
   "source": [
    "### Quality Control Sequences II"
   ]
  },
  {
   "cell_type": "code",
   "execution_count": null,
   "metadata": {
    "id": "LnwKFemePhr_"
   },
   "outputs": [],
   "source": [
    "!./fastx-toolkit/bin/fastx_quality_stats -Q33 -i biogas-trim.fastq -o biogas-trim-qc.tab"
   ]
  },
  {
   "cell_type": "code",
   "execution_count": null,
   "metadata": {
    "colab": {
     "base_uri": "https://localhost:8080/",
     "height": 34
    },
    "id": "XJwMjsDhPV2J",
    "outputId": "818776b6-42aa-4e14-98ab-f437d61a477a"
   },
   "outputs": [],
   "source": [
    "!awk '$17>0{print $1,$2,$6,$17}' biogas-trim-qc.tab"
   ]
  },
  {
   "cell_type": "markdown",
   "metadata": {
    "id": "5L6xrKNOXGSq"
   },
   "source": [
    "### Convert to FastA"
   ]
  },
  {
   "cell_type": "code",
   "execution_count": null,
   "metadata": {
    "id": "3eodNMLcQ94g"
   },
   "outputs": [],
   "source": [
    "!./fastx-toolkit/bin/fastq_to_fasta -Q33 -i biogas-trim.fastq -o biogas-trim.fasta"
   ]
  },
  {
   "cell_type": "code",
   "execution_count": null,
   "metadata": {
    "colab": {
     "base_uri": "https://localhost:8080/",
     "height": 51
    },
    "id": "3ff0Vh_7RFfp",
    "outputId": "54f11711-1f2a-4bb6-b3e7-c6b115154184"
   },
   "outputs": [],
   "source": [
    "!head -2 biogas-trim.fasta"
   ]
  },
  {
   "cell_type": "markdown",
   "metadata": {
    "id": "CRHEW9YPXe92"
   },
   "source": [
    "## BLASTing Reads against rRNA"
   ]
  },
  {
   "cell_type": "markdown",
   "metadata": {
    "id": "RuOSxxnGX91-"
   },
   "source": [
    "### Create BLASTDB"
   ]
  },
  {
   "cell_type": "code",
   "execution_count": null,
   "metadata": {
    "colab": {
     "base_uri": "https://localhost:8080/",
     "height": 170
    },
    "id": "XQtxBZ2oXmkM",
    "outputId": "110ddfa6-fb87-4c16-9a0f-91086b9baa63"
   },
   "outputs": [],
   "source": [
    "!makeblastdb -in 16s-archaea-kurz.fasta -dbtype nucl -title 'Archaea 16S rRNA short' -out archaea"
   ]
  },
  {
   "cell_type": "markdown",
   "metadata": {
    "id": "JZbQYvoFYhf4"
   },
   "source": [
    "### BLAST …"
   ]
  },
  {
   "cell_type": "code",
   "execution_count": null,
   "metadata": {
    "colab": {
     "base_uri": "https://localhost:8080/"
    },
    "id": "4zrIQIoHX0Hg",
    "outputId": "07ee10a4-64d0-4dbf-b2fc-6fd5b1b3bc01"
   },
   "outputs": [],
   "source": [
    "!time blastn -db archaea -query biogas-trim.fasta -evalue 0.0001 -outfmt '6 ppos length evalue stitle qseqid' > pos-length-evalue-name-readid.archaea.tab"
   ]
  },
  {
   "cell_type": "markdown",
   "metadata": {
    "id": "7E6TWWvLZnq0"
   },
   "source": [
    "### Data Analysis"
   ]
  },
  {
   "cell_type": "code",
   "execution_count": null,
   "metadata": {
    "colab": {
     "base_uri": "https://localhost:8080/"
    },
    "id": "t-Vvk3DtYgI3",
    "outputId": "0b89cb1f-5253-4d64-f216-f61a9f4854c8"
   },
   "outputs": [],
   "source": [
    "!head -5 pos-length-evalue-name-readid.archaea.tab"
   ]
  },
  {
   "cell_type": "code",
   "execution_count": null,
   "metadata": {
    "colab": {
     "base_uri": "https://localhost:8080/",
     "height": 34
    },
    "id": "QZCCDm4UYuNl",
    "outputId": "a8fe36d8-f707-441e-8134-13a018b2b1fe"
   },
   "outputs": [],
   "source": [
    "!wc -l pos-length-evalue-name-readid.archaea.tab"
   ]
  },
  {
   "cell_type": "code",
   "execution_count": null,
   "metadata": {
    "colab": {
     "base_uri": "https://localhost:8080/",
     "height": 34
    },
    "id": "6z-AtZ5JY0ks",
    "outputId": "3944d2da-4d0e-4b35-abe6-12b7b8120618"
   },
   "outputs": [],
   "source": [
    "!awk '{print $4}' pos-length-evalue-name-readid.archaea.tab | sort | uniq | wc -l"
   ]
  },
  {
   "cell_type": "code",
   "execution_count": null,
   "metadata": {
    "colab": {
     "base_uri": "https://localhost:8080/",
     "height": 34
    },
    "id": "LL9PiGheY7rx",
    "outputId": "82158253-2259-4792-82c0-61466fa4cc06"
   },
   "outputs": [],
   "source": [
    "!awk '{print $NF}' pos-length-evalue-name-readid.archaea.tab | sort | uniq | wc -l"
   ]
  },
  {
   "cell_type": "code",
   "execution_count": null,
   "metadata": {
    "colab": {
     "base_uri": "https://localhost:8080/",
     "height": 102
    },
    "id": "oTdjQ_RLZBqg",
    "outputId": "1e434cc4-e2f5-4721-f8ae-ee6b206c757e"
   },
   "outputs": [],
   "source": [
    "!awk '{print $4,$6,$7}' pos-length-evalue-name-readid.archaea.tab | sort | uniq -c | sort -nr | head -5 #ignore error"
   ]
  },
  {
   "cell_type": "code",
   "execution_count": null,
   "metadata": {
    "colab": {
     "base_uri": "https://localhost:8080/",
     "height": 102
    },
    "id": "ElHR75UtZUB1",
    "outputId": "cb7910a6-f18a-41f1-a903-f6b80d25ebd0"
   },
   "outputs": [],
   "source": [
    "!awk '{print $NF}' pos-length-evalue-name-readid.archaea.tab | sort | uniq -c| sort -nr | head -5 #ignore error"
   ]
  },
  {
   "cell_type": "markdown",
   "metadata": {},
   "source": [
    "Änderung von \\\\$1==100 in \\\\$1>99 notwendig ..."
   ]
  },
  {
   "cell_type": "code",
   "execution_count": null,
   "metadata": {
    "colab": {
     "base_uri": "https://localhost:8080/",
     "height": 187
    },
    "id": "QMnkKzPQZfkE",
    "outputId": "01b0598d-f88e-4cf7-ed4e-3a45f2a9bc23"
   },
   "outputs": [],
   "source": [
    "!awk -F\"\\t\" '$1>99 && $3<4e-45{print $4}' pos-length-evalue-name-readid.archaea.tab | awk '{print $3,$4,$5}' | sort | uniq -c | sort -nr | head"
   ]
  },
  {
   "cell_type": "code",
   "execution_count": null,
   "metadata": {
    "colab": {
     "base_uri": "https://localhost:8080/",
     "height": 51
    },
    "id": "JR7yWlG4Z2z6",
    "outputId": "add01398-efcc-49a4-bfa7-9ebb25b4386d"
   },
   "outputs": [],
   "source": [
    "!awk -F\"\\t\" '$1>99 && $3<4e-45{print $4}' pos-length-evalue-name-readid.archaea.tab | awk '{print $3,$4,$5}' | sort | uniq -c | wc -l"
   ]
  },
  {
   "cell_type": "code",
   "execution_count": null,
   "metadata": {
    "colab": {
     "base_uri": "https://localhost:8080/",
     "height": 34
    },
    "id": "7tGHBB67aCQK",
    "outputId": "3e815da6-f0cb-43ea-969d-877a6bcc9053"
   },
   "outputs": [],
   "source": [
    "!awk -F\"\\t\" '$1>99 && $3<4e-45{print $4}' pos-length-evalue-name-readid.archaea.tab | awk '{print $3,$4,$5}' | sort | uniq -c | sort -nr | tail -5"
   ]
  },
  {
   "cell_type": "markdown",
   "metadata": {
    "id": "5LfMk7CbabfN"
   },
   "source": [
    "![image.png](data:image/png;base64,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)"
   ]
  },
  {
   "cell_type": "code",
   "execution_count": null,
   "metadata": {
    "id": "3p38PelxaRhY"
   },
   "outputs": [],
   "source": [
    "!awk -F\"\\t\" '$1>99 && $3<4e-45{print $4}' pos-length-evalue-name-readid.archaea.tab | awk '{print $3,$4,$5}' | sort | uniq -c | sort -nr | awk '{org[$2\" \"$3]+=$1}END{for(i in org){print org[i],i}}' | sort -nr | head -5"
   ]
  },
  {
   "cell_type": "code",
   "execution_count": null,
   "metadata": {
    "colab": {
     "base_uri": "https://localhost:8080/",
     "height": 34
    },
    "id": "f39bsyiKbSGx",
    "outputId": "6ef00a0c-b4ab-4ef1-f981-0767563c065b"
   },
   "outputs": [],
   "source": [
    "!ls"
   ]
  },
  {
   "cell_type": "code",
   "execution_count": null,
   "metadata": {
    "id": "SIBro2lcbeRa"
   },
   "outputs": [],
   "source": []
  }
 ],
 "metadata": {
  "colab": {
   "name": "book-biogas-project.ipynb",
   "provenance": [],
   "toc_visible": true
  },
  "kernelspec": {
   "display_name": "Python 3 (ipykernel)",
   "language": "python",
   "name": "python3"
  },
  "language_info": {
   "codemirror_mode": {
    "name": "ipython",
    "version": 3
   },
   "file_extension": ".py",
   "mimetype": "text/x-python",
   "name": "python",
   "nbconvert_exporter": "python",
   "pygments_lexer": "ipython3",
   "version": "3.9.7"
  }
 },
 "nbformat": 4,
 "nbformat_minor": 1
}
