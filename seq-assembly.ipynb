{
 "cells": [
  {
   "cell_type": "markdown",
   "id": "3e3f444f",
   "metadata": {},
   "source": [
    "# Sequence Assembly\n",
    "\n",
    "In diesem Praktikum geht es um das Assembly von DNA-Sequenzen – optimalerweise aus Ihrem Praktikum. Da wir dort aber verschiedene Versuche fahren, arbeiten wir hier mit simulierten Reads."
   ]
  },
  {
   "cell_type": "markdown",
   "id": "2ab26d22",
   "metadata": {},
   "source": [
    "## Vorbereitungen\n",
    "\n",
    "Ich gehe davon aus, dass Sie in Ihrem Home-Verzeichnis einen Ordner namens _Assembly_ haben. Das ist unser Startpunkt."
   ]
  },
  {
   "cell_type": "code",
   "execution_count": null,
   "id": "ce6adc02",
   "metadata": {},
   "outputs": [],
   "source": [
    "%cd ~/Assembly"
   ]
  },
  {
   "cell_type": "markdown",
   "id": "8bf76ecc",
   "metadata": {},
   "source": [
    "### Install Unicycler"
   ]
  },
  {
   "cell_type": "markdown",
   "id": "53be8b3f",
   "metadata": {},
   "source": [
    "Unicycler ist ein Programm, das viele Abhängigkeiten aufweist. Daher müssen wir zunächst eine Reihe von Programmen installieren, bevor wir loslegen können:\n",
    "\n",
    "- spades -> für das Assembly kurzer Reads\n",
    "- racon -> für das Assembly langer Reads\n",
    "- makeblastdb -> für das Handling zikularer Sequenzen     \n",
    "- tblastn -> für das Handling zikularer Sequenzen     \n",
    "- bowtie2-build -> für die Qualitätskontrolle\n",
    "- bowtie2 -> für die Qualitätskontrolle\n",
    "- samtools -> für die Qualitätskontrolle\n",
    "- pilon -> für die Qualitätskontrolle\n",
    "- bcftools -> für die Qualitätskontrolle \n",
    "- java -> als Programmiersprache   \n",
    "- python2 -> als Programmiersprache\n",
    "\n",
    "Aber legen wir erstmal mit dem Unicycler los:"
   ]
  },
  {
   "cell_type": "code",
   "execution_count": null,
   "id": "969c2ee5",
   "metadata": {},
   "outputs": [],
   "source": [
    "!pkexec sudo apt-get -y install git | tail -3"
   ]
  },
  {
   "cell_type": "code",
   "execution_count": null,
   "id": "0e29af3e",
   "metadata": {},
   "outputs": [],
   "source": [
    "!git clone https://github.com/rrwick/Unicycler.git"
   ]
  },
  {
   "cell_type": "code",
   "execution_count": null,
   "id": "fa97e266",
   "metadata": {},
   "outputs": [],
   "source": [
    "cd Unicycler"
   ]
  },
  {
   "cell_type": "code",
   "execution_count": null,
   "id": "e2ec7568",
   "metadata": {},
   "outputs": [],
   "source": [
    "!pkexec sudo apt-get install libz-dev | tail -3"
   ]
  },
  {
   "cell_type": "code",
   "execution_count": null,
   "id": "ec6b93f9",
   "metadata": {},
   "outputs": [],
   "source": [
    "!make"
   ]
  },
  {
   "cell_type": "code",
   "execution_count": null,
   "id": "031aa79c",
   "metadata": {},
   "outputs": [],
   "source": [
    "!./unicycler-runner.py"
   ]
  },
  {
   "cell_type": "code",
   "execution_count": null,
   "id": "53919327",
   "metadata": {},
   "outputs": [],
   "source": [
    "%cd .."
   ]
  },
  {
   "cell_type": "markdown",
   "id": "107ef740",
   "metadata": {},
   "source": [
    "### Install Racon"
   ]
  },
  {
   "cell_type": "code",
   "execution_count": null,
   "id": "9a08a2a7",
   "metadata": {},
   "outputs": [],
   "source": [
    "!git clone --recursive https://github.com/isovic/racon.git # racon"
   ]
  },
  {
   "cell_type": "code",
   "execution_count": null,
   "id": "27c411b2",
   "metadata": {},
   "outputs": [],
   "source": [
    "%cd racon"
   ]
  },
  {
   "cell_type": "code",
   "execution_count": null,
   "id": "c125f849",
   "metadata": {},
   "outputs": [],
   "source": [
    "%mkdir build"
   ]
  },
  {
   "cell_type": "code",
   "execution_count": null,
   "id": "4ba40ee6",
   "metadata": {},
   "outputs": [],
   "source": [
    "%cd build"
   ]
  },
  {
   "cell_type": "code",
   "execution_count": null,
   "id": "c6974dc0",
   "metadata": {},
   "outputs": [],
   "source": [
    "!pkexec apt-get -y install cmake | tail -3"
   ]
  },
  {
   "cell_type": "code",
   "execution_count": null,
   "id": "f7615ede",
   "metadata": {},
   "outputs": [],
   "source": [
    "!cmake -DCMAKE_BUILD_TYPE=Release .."
   ]
  },
  {
   "cell_type": "code",
   "execution_count": null,
   "id": "bafc11ee",
   "metadata": {},
   "outputs": [],
   "source": [
    "!make"
   ]
  },
  {
   "cell_type": "code",
   "execution_count": null,
   "id": "24156e7f",
   "metadata": {},
   "outputs": [],
   "source": [
    "!pkexec make install"
   ]
  },
  {
   "cell_type": "code",
   "execution_count": null,
   "id": "f660b06c",
   "metadata": {},
   "outputs": [],
   "source": [
    "%cd ~/Assembly"
   ]
  },
  {
   "cell_type": "markdown",
   "id": "242e59ef",
   "metadata": {},
   "source": [
    "### Install Spades\n",
    "\n",
    "**Wichtig**: Versionen über 3.13 sind zu neu und funktionieren nicht."
   ]
  },
  {
   "cell_type": "code",
   "execution_count": null,
   "id": "3496045b",
   "metadata": {},
   "outputs": [],
   "source": [
    "!wget http://cab.spbu.ru/files/release3.13.0/SPAdes-3.13.0-Linux.tar.gz"
   ]
  },
  {
   "cell_type": "code",
   "execution_count": null,
   "id": "10d3c1d3",
   "metadata": {},
   "outputs": [],
   "source": [
    "!tar -xf SPAdes-3.13.0-Linux.tar.gz"
   ]
  },
  {
   "cell_type": "markdown",
   "id": "52b49f5e",
   "metadata": {},
   "source": [
    "### Install BLAST+"
   ]
  },
  {
   "cell_type": "code",
   "execution_count": null,
   "id": "59382d90",
   "metadata": {},
   "outputs": [],
   "source": [
    "!pkexec apt-get  install -y ncbi-blast+ | tail -3"
   ]
  },
  {
   "cell_type": "markdown",
   "id": "93ef2bcc",
   "metadata": {},
   "source": [
    "### Install Samtools"
   ]
  },
  {
   "cell_type": "code",
   "execution_count": null,
   "id": "21a4972d",
   "metadata": {},
   "outputs": [],
   "source": [
    "!pkexec apt-get -y install samtools"
   ]
  },
  {
   "cell_type": "markdown",
   "id": "edcdb56b",
   "metadata": {},
   "source": [
    "### Install Bowtie2"
   ]
  },
  {
   "cell_type": "code",
   "execution_count": null,
   "id": "446a2121",
   "metadata": {},
   "outputs": [],
   "source": [
    "!pkexec apt-get -y install bowtie2 | tail -3"
   ]
  },
  {
   "cell_type": "markdown",
   "id": "e89ca010",
   "metadata": {},
   "source": [
    "### Install Pilon"
   ]
  },
  {
   "cell_type": "code",
   "execution_count": null,
   "id": "c1a61157",
   "metadata": {},
   "outputs": [],
   "source": [
    "!wget https://github.com/broadinstitute/pilon/releases/download/v1.23/pilon-1.23.jar"
   ]
  },
  {
   "cell_type": "markdown",
   "id": "a82602d7",
   "metadata": {},
   "source": [
    "## Install Sequencer\n",
    "\n",
    "Sequencer ist ein Tool von Bernhard Haubold, das einen Sequenzierautomaten simuliert: Man gibt ein Genom rein und bekommt Reads heraus. Dabei kann man die durchschnittliche gewünschte Coverage und Readlänge vorgeben. Um die Mittelwerte wird eine Gauss'sche Verteilung erzeugt."
   ]
  },
  {
   "cell_type": "code",
   "execution_count": null,
   "id": "6b992535",
   "metadata": {},
   "outputs": [],
   "source": [
    "%cd /home/rw/Assembly"
   ]
  },
  {
   "cell_type": "code",
   "execution_count": null,
   "id": "38559ccd",
   "metadata": {},
   "outputs": [],
   "source": [
    "!wget 'http://www.staff.hs-mittweida.de/~wuenschi/data/media/compbiolbook/sequencer'"
   ]
  },
  {
   "cell_type": "code",
   "execution_count": null,
   "id": "88880d44",
   "metadata": {},
   "outputs": [],
   "source": [
    "!chmod u+x sequencer"
   ]
  },
  {
   "cell_type": "code",
   "execution_count": null,
   "id": "2dbaa5ed",
   "metadata": {},
   "outputs": [],
   "source": [
    "!pkexec apt-get install lib32z1 # for sequencer"
   ]
  },
  {
   "cell_type": "code",
   "execution_count": null,
   "id": "685b435b",
   "metadata": {},
   "outputs": [],
   "source": [
    "!./sequencer"
   ]
  },
  {
   "cell_type": "markdown",
   "id": "f0c0a981",
   "metadata": {},
   "source": [
    "## Run Assembly"
   ]
  },
  {
   "cell_type": "code",
   "execution_count": null,
   "id": "8b540f75",
   "metadata": {},
   "outputs": [],
   "source": [
    "!time Unicycler/unicycler-runner.py -s 30-150.fastq -o output-30-150 --spades_path /home/rw/Assembly/SPAdes-3.13.0-Linux/bin/spades.py --pilon_path /home/rw/Assembly/pilon-1.23.jar"
   ]
  },
  {
   "cell_type": "markdown",
   "id": "4030a343",
   "metadata": {},
   "source": [
    "## Run Assembly / Datenanalyse"
   ]
  },
  {
   "cell_type": "markdown",
   "id": "8d783350",
   "metadata": {},
   "source": [
    "Zunächst erzeugen wir mit dem virtuellen Sequenzer Reads des SARS-CoV2-Genoms. Die Option -c gibt die Coverage und -l die Readlänge an. Wir speichern sie in den Pythonvariablen _cov_ und _len_. Mit {Variabelname} können wir sie in der Shell aufrufen. Das ist total cool :-)\n",
    "\n",
    "Mit _env_ exportieren wir die Variablen. Sie stehen sie auch Subshells zur Verfügung.\n",
    "\n",
    "#### AUFGABE\n",
    "Probieren Sie verschiedene Coverage/Readlängen-Kombinationen und stellen Sie graphisch dar (R?), wie sich das auf die Anzahl der Contigs auswirkt."
   ]
  },
  {
   "cell_type": "code",
   "execution_count": null,
   "id": "42905cca",
   "metadata": {},
   "outputs": [],
   "source": [
    "cov = 9\n",
    "len = 188"
   ]
  },
  {
   "cell_type": "code",
   "execution_count": null,
   "id": "6dfc5e7f",
   "metadata": {},
   "outputs": [],
   "source": [
    "%env cov={cov}\n",
    "%env len={len}"
   ]
  },
  {
   "cell_type": "code",
   "execution_count": null,
   "id": "0222b9bd",
   "metadata": {},
   "outputs": [],
   "source": [
    "!echo \"$cov+$len\""
   ]
  },
  {
   "cell_type": "code",
   "execution_count": null,
   "id": "768973ca",
   "metadata": {},
   "outputs": [],
   "source": [
    "!echo {cov}\"+\"{len}"
   ]
  },
  {
   "cell_type": "code",
   "execution_count": null,
   "id": "d6e8a07b",
   "metadata": {},
   "outputs": [],
   "source": [
    "!./sequencer -i cov2.fasta -c {cov} -l {len} -o cov2-{cov}-{len}.out"
   ]
  },
  {
   "cell_type": "code",
   "execution_count": null,
   "id": "d28b8497",
   "metadata": {},
   "outputs": [],
   "source": [
    "!grep -c \">\" cov2-{cov}-{len}.out"
   ]
  },
  {
   "cell_type": "markdown",
   "id": "91a51901",
   "metadata": {},
   "source": [
    "AWK braucht die Shellvariabeln mit dem Dollarzeichen ..."
   ]
  },
  {
   "cell_type": "code",
   "execution_count": null,
   "id": "14fe807c",
   "metadata": {},
   "outputs": [],
   "source": [
    "!awk -f fast2tab.awk \"cov2-$cov-$len.out\" | awk 'length($2)>0{print \"@\"$1\"\\n\"$2\"\\n+\";for(i=1; i<=length($2); i++){ORS=\"\";print\"X\";ORS=\"\\n\"}print \"\\n\"}' | sed '/^$/d' > \"cov2-$cov-$len.fastq\""
   ]
  },
  {
   "cell_type": "code",
   "execution_count": null,
   "id": "e5858284",
   "metadata": {},
   "outputs": [],
   "source": [
    "!time Unicycler/unicycler-runner.py -s cov2-{cov}-{len}.fastq -o output-cov2-{cov}-{len} --spades_path ~/Assembly/SPAdes-3.13.0-Linux/bin/spades.py --pilon_path ~/Assembly/pilon-1.23.jar"
   ]
  },
  {
   "cell_type": "code",
   "execution_count": null,
   "id": "38d58e08",
   "metadata": {},
   "outputs": [],
   "source": [
    "!grep -c \">\" output-cov2-{cov}-{len}/assembly.fasta"
   ]
  },
  {
   "cell_type": "code",
   "execution_count": null,
   "id": "6a5c7923",
   "metadata": {},
   "outputs": [],
   "source": []
  }
 ],
 "metadata": {
  "kernelspec": {
   "display_name": "Python 3 (ipykernel)",
   "language": "python",
   "name": "python3"
  },
  "language_info": {
   "codemirror_mode": {
    "name": "ipython",
    "version": 3
   },
   "file_extension": ".py",
   "mimetype": "text/x-python",
   "name": "python",
   "nbconvert_exporter": "python",
   "pygments_lexer": "ipython3",
   "version": "3.9.7"
  }
 },
 "nbformat": 4,
 "nbformat_minor": 5
}
